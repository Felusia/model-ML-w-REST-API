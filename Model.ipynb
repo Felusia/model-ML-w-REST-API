{
 "cells": [
  {
   "cell_type": "code",
   "execution_count": null,
   "id": "d0a1620e",
   "metadata": {},
   "outputs": [],
   "source": [
    "import numpy as np\n",
    "from sklearn.linear_model import Perceptron\n",
    "import joblib\n",
    "from flask import Flask, request, jsonify"
   ]
  },
  {
   "cell_type": "code",
   "execution_count": null,
   "id": "33d504a9",
   "metadata": {},
   "outputs": [],
   "source": [
    "# model.py\n",
    "X = np.array([[0, 0], [1, 1], [1, 0], [0, 1]])\n",
    "y = np.array([0, 1, 0, 1])\n",
    "\n",
    "\n",
    "model = Perceptron()\n",
    "model.fit(X, y)\n",
    "\n",
    "\n",
    "joblib.dump(model, 'perceptron_model.pkl')\n"
   ]
  },
  {
   "cell_type": "code",
   "execution_count": null,
   "id": "2944df16",
   "metadata": {},
   "outputs": [],
   "source": [
    "# app.py\n",
    "app = Flask(__name__)\n",
    "\n",
    "\n",
    "model = joblib.load('perceptron_model.pkl')\n",
    "\n",
    "@app.route('/api/v1.0/predict', methods=['GET'])\n",
    "def predict():\n",
    "    x1 = request.args.get(\"x1\", 0, type=float)\n",
    "    x2 = request.args.get(\"x2\", 0, type=float)\n",
    "    \n",
    "  \n",
    "    prediction = model.predict(np.array([[x1, x2]]))[0]\n",
    "\n",
    "  \n",
    "    features = {'x1': x1, 'x2': x2}\n",
    "    predicted_class = {'prediction': int(prediction)}\n",
    "\n",
    "    return jsonify(features=features, predicted_class=predicted_class)\n",
    "\n",
    "if __name__ == '__main__':\n",
    "    app.run(host='0.0.0.0')\n"
   ]
  },
  {
   "cell_type": "code",
   "execution_count": null,
   "id": "f7a0844b",
   "metadata": {},
   "outputs": [],
   "source": []
  }
 ],
 "metadata": {
  "kernelspec": {
   "display_name": "Python 3 (ipykernel)",
   "language": "python",
   "name": "python3"
  },
  "language_info": {
   "codemirror_mode": {
    "name": "ipython",
    "version": 3
   },
   "file_extension": ".py",
   "mimetype": "text/x-python",
   "name": "python",
   "nbconvert_exporter": "python",
   "pygments_lexer": "ipython3",
   "version": "3.9.13"
  }
 },
 "nbformat": 4,
 "nbformat_minor": 5
}
